{
 "cells": [
  {
   "cell_type": "code",
   "execution_count": 7,
   "id": "6f33756a",
   "metadata": {},
   "outputs": [],
   "source": [
    "import pandas as pd\n",
    "import numpy as np\n",
    "import seaborn as sns\n",
    "import matplotlib.pyplot as plt\n",
    "\n",
    "import warnings\n",
    "warnings.filterwarnings(\"ignore\")"
   ]
  },
  {
   "cell_type": "markdown",
   "id": "1783a25d",
   "metadata": {},
   "source": [
    "# data preprocessing"
   ]
  },
  {
   "cell_type": "code",
   "execution_count": 8,
   "id": "42f84a8a",
   "metadata": {},
   "outputs": [],
   "source": [
    "action = pd.read_csv(\"./data/user_action.csv\")\n",
    "feed = pd.read_csv(\"./data/feed_info.csv\")\n",
    "feed = feed[['feedid','authorid','videoplayseconds']]\n",
    "feed_emb = pd.read_csv(\"./data/feed_embeddings.csv\")"
   ]
  },
  {
   "cell_type": "code",
   "execution_count": 9,
   "id": "8d67dcf6",
   "metadata": {},
   "outputs": [],
   "source": [
    "action = pd.merge(left=action,right=feed,on=['feedid'],how='left').dropna(how='any')\n",
    "action = pd.merge(left=action,right=feed_emb,on=['feedid'],how='left').dropna(how='any')"
   ]
  },
  {
   "cell_type": "code",
   "execution_count": 10,
   "id": "838f0ce8",
   "metadata": {},
   "outputs": [],
   "source": [
    "action = action[action.videoplayseconds<=60] # only use <= 60s videos"
   ]
  },
  {
   "cell_type": "code",
   "execution_count": 11,
   "id": "923f9cfe",
   "metadata": {},
   "outputs": [],
   "source": [
    "action['pcr'] = action['play'] / (action['videoplayseconds']*1000.0)\n",
    "action['pcr'] = action['pcr'].apply(lambda x:min(1.0,x))\n",
    "\n",
    "action['duration_level'] = (action[['videoplayseconds']]-1)//10"
   ]
  },
  {
   "cell_type": "code",
   "execution_count": 12,
   "id": "bfa5b170",
   "metadata": {},
   "outputs": [
    {
     "data": {
      "text/html": [
       "<div>\n",
       "<style scoped>\n",
       "    .dataframe tbody tr th:only-of-type {\n",
       "        vertical-align: middle;\n",
       "    }\n",
       "\n",
       "    .dataframe tbody tr th {\n",
       "        vertical-align: top;\n",
       "    }\n",
       "\n",
       "    .dataframe thead th {\n",
       "        text-align: right;\n",
       "    }\n",
       "</style>\n",
       "<table border=\"1\" class=\"dataframe\">\n",
       "  <thead>\n",
       "    <tr style=\"text-align: right;\">\n",
       "      <th></th>\n",
       "      <th>userid</th>\n",
       "      <th>feedid</th>\n",
       "      <th>date_</th>\n",
       "      <th>device</th>\n",
       "      <th>read_comment</th>\n",
       "      <th>comment</th>\n",
       "      <th>like</th>\n",
       "      <th>play</th>\n",
       "      <th>stay</th>\n",
       "      <th>click_avatar</th>\n",
       "      <th>forward</th>\n",
       "      <th>follow</th>\n",
       "      <th>favorite</th>\n",
       "      <th>authorid</th>\n",
       "      <th>videoplayseconds</th>\n",
       "      <th>feed_embedding</th>\n",
       "      <th>pcr</th>\n",
       "      <th>duration_level</th>\n",
       "    </tr>\n",
       "  </thead>\n",
       "  <tbody>\n",
       "    <tr>\n",
       "      <th>0</th>\n",
       "      <td>8</td>\n",
       "      <td>71474</td>\n",
       "      <td>1</td>\n",
       "      <td>1</td>\n",
       "      <td>0</td>\n",
       "      <td>0</td>\n",
       "      <td>1</td>\n",
       "      <td>500</td>\n",
       "      <td>5366</td>\n",
       "      <td>0</td>\n",
       "      <td>0</td>\n",
       "      <td>0</td>\n",
       "      <td>0</td>\n",
       "      <td>1528</td>\n",
       "      <td>11</td>\n",
       "      <td>-0.04696813 -0.00618735 -0.04297943 0.00194003...</td>\n",
       "      <td>0.045455</td>\n",
       "      <td>1</td>\n",
       "    </tr>\n",
       "  </tbody>\n",
       "</table>\n",
       "</div>"
      ],
      "text/plain": [
       "   userid  feedid  date_  device  read_comment  comment  like  play  stay  \\\n",
       "0       8   71474      1       1             0        0     1   500  5366   \n",
       "\n",
       "   click_avatar  forward  follow  favorite  authorid  videoplayseconds  \\\n",
       "0             0        0       0         0      1528                11   \n",
       "\n",
       "                                      feed_embedding       pcr  duration_level  \n",
       "0  -0.04696813 -0.00618735 -0.04297943 0.00194003...  0.045455               1  "
      ]
     },
     "execution_count": 12,
     "metadata": {},
     "output_type": "execute_result"
    }
   ],
   "source": [
    "action.head(1)"
   ]
  },
  {
   "cell_type": "markdown",
   "id": "334c3e52",
   "metadata": {},
   "source": [
    "# ostu label"
   ]
  },
  {
   "cell_type": "code",
   "execution_count": 13,
   "id": "604081e5",
   "metadata": {},
   "outputs": [],
   "source": [
    "def otsu(pcr,bins):\n",
    "    threshold_t = 0\n",
    "    max_g = 0\n",
    "    \n",
    "    for i in range(bins):\n",
    "        t = i/bins\n",
    "        n0 = pcr[np.where(pcr < t)]\n",
    "        n1 = pcr[np.where(pcr >= t)]\n",
    "        w0 = len(n0) / len(pcr)\n",
    "        w1 = len(n1) / len(pcr)\n",
    "        \n",
    "        if w0 == 0 or w1 == 0:\n",
    "            continue\n",
    "        u0 = np.mean(n0) if len(n0) > 0 else 0.\n",
    "        u1 = np.mean(n1) if len(n0) > 0 else 0.\n",
    "        \n",
    "        s0 = np.std(n0)\n",
    "        s1 = np.std(n1)\n",
    "\n",
    "        g = (w0 * w1 * ((u0 - u1) ** 2))/ (s0*w0+s1*w1)\n",
    "        if g > max_g:\n",
    "            max_g = g\n",
    "            threshold_t = t\n",
    "    return threshold_t\n"
   ]
  },
  {
   "cell_type": "code",
   "execution_count": 14,
   "id": "d0eabcdf",
   "metadata": {},
   "outputs": [
    {
     "data": {
      "text/html": [
       "<div>\n",
       "<style scoped>\n",
       "    .dataframe tbody tr th:only-of-type {\n",
       "        vertical-align: middle;\n",
       "    }\n",
       "\n",
       "    .dataframe tbody tr th {\n",
       "        vertical-align: top;\n",
       "    }\n",
       "\n",
       "    .dataframe thead th {\n",
       "        text-align: right;\n",
       "    }\n",
       "</style>\n",
       "<table border=\"1\" class=\"dataframe\">\n",
       "  <thead>\n",
       "    <tr style=\"text-align: right;\">\n",
       "      <th></th>\n",
       "      <th>duration_level</th>\n",
       "      <th>threshold</th>\n",
       "    </tr>\n",
       "  </thead>\n",
       "  <tbody>\n",
       "    <tr>\n",
       "      <th>0</th>\n",
       "      <td>0</td>\n",
       "      <td>0.660156</td>\n",
       "    </tr>\n",
       "    <tr>\n",
       "      <th>1</th>\n",
       "      <td>1</td>\n",
       "      <td>0.644531</td>\n",
       "    </tr>\n",
       "    <tr>\n",
       "      <th>2</th>\n",
       "      <td>2</td>\n",
       "      <td>0.625000</td>\n",
       "    </tr>\n",
       "    <tr>\n",
       "      <th>3</th>\n",
       "      <td>3</td>\n",
       "      <td>0.593750</td>\n",
       "    </tr>\n",
       "    <tr>\n",
       "      <th>4</th>\n",
       "      <td>4</td>\n",
       "      <td>0.578125</td>\n",
       "    </tr>\n",
       "    <tr>\n",
       "      <th>5</th>\n",
       "      <td>5</td>\n",
       "      <td>0.566406</td>\n",
       "    </tr>\n",
       "  </tbody>\n",
       "</table>\n",
       "</div>"
      ],
      "text/plain": [
       "   duration_level  threshold\n",
       "0               0   0.660156\n",
       "1               1   0.644531\n",
       "2               2   0.625000\n",
       "3               3   0.593750\n",
       "4               4   0.578125\n",
       "5               5   0.566406"
      ]
     },
     "execution_count": 14,
     "metadata": {},
     "output_type": "execute_result"
    }
   ],
   "source": [
    "threshold = []\n",
    "for i in range(6):\n",
    "    x = action[action.duration_level==i][['pcr']]\n",
    "    threshold.append(otsu(x['pcr'].to_numpy(),256))\n",
    "threshold = pd.DataFrame(threshold).reset_index()\n",
    "threshold.columns =['duration_level','threshold']\n",
    "action = pd.merge(left=action,right=threshold,on=['duration_level'],how='left')\n",
    "threshold"
   ]
  },
  {
   "cell_type": "code",
   "execution_count": 15,
   "id": "74f51a87",
   "metadata": {},
   "outputs": [],
   "source": [
    "action['train_label'] = (action['pcr'] >= action['threshold']).astype('int32')"
   ]
  },
  {
   "cell_type": "markdown",
   "id": "a81835ae",
   "metadata": {},
   "source": [
    "# post-feedback label"
   ]
  },
  {
   "cell_type": "code",
   "execution_count": 16,
   "id": "74f0e49e",
   "metadata": {},
   "outputs": [],
   "source": [
    "action['finish_playing'] = (action['pcr'] >= 1.0).astype('int32')"
   ]
  },
  {
   "cell_type": "code",
   "execution_count": 17,
   "id": "4af8705c",
   "metadata": {},
   "outputs": [],
   "source": [
    "action['test_label'] = (action['read_comment'] | action['like'])"
   ]
  },
  {
   "cell_type": "code",
   "execution_count": 18,
   "id": "e1610c0f",
   "metadata": {},
   "outputs": [],
   "source": [
    "action = action[~((action.train_label==0) & (action.test_label==1))]"
   ]
  },
  {
   "cell_type": "markdown",
   "id": "be950e57",
   "metadata": {},
   "source": [
    "# visual"
   ]
  },
  {
   "cell_type": "code",
   "execution_count": 22,
   "id": "8814fc38",
   "metadata": {},
   "outputs": [
    {
     "data": {
      "text/plain": [
       "<matplotlib.axes._subplots.AxesSubplot at 0x7febc2d86c50>"
      ]
     },
     "execution_count": 22,
     "metadata": {},
     "output_type": "execute_result"
    },
    {
     "data": {
      "image/png": "[encoded data removed]",
      "text/plain": [
       "<Figure size 432x288 with 1 Axes>"
      ]
     },
     "metadata": {},
     "output_type": "display_data"
    }
   ],
   "source": [
    "action['duration_level'].value_counts().plot('pie')"
   ]
  },
  {
   "cell_type": "code",
   "execution_count": 41,
   "id": "542d92b7",
   "metadata": {},
   "outputs": [
    {
     "data": {
      "image/png": "[encoded data removed]",
      "text/plain": [
       "<Figure size 432x288 with 6 Axes>"
      ]
     },
     "metadata": {},
     "output_type": "display_data"
    }
   ],
   "source": [
    "fig, ax = plt.subplots(2, 3, sharex='col', sharey='row')\n",
    "for i in range(2):\n",
    "    for j in range(3):\n",
    "        sns.distplot(action[action.duration_level == i*3+j]['pcr'],ax = ax[i,j],bins=10)\n",
    "        ax[i,j].set_title(str(i*3+j))"
   ]
  },
  {
   "cell_type": "code",
   "execution_count": 29,
   "id": "3b2dd93a",
   "metadata": {},
   "outputs": [
    {
     "data": {
      "text/plain": [
       "<matplotlib.axes._subplots.AxesSubplot at 0x7febcac63f28>"
      ]
     },
     "execution_count": 29,
     "metadata": {},
     "output_type": "execute_result"
    },
    {
     "data": {
      "image/png": "[encoded data removed]",
      "text/plain": [
       "<Figure size 432x288 with 2 Axes>"
      ]
     },
     "metadata": {},
     "output_type": "display_data"
    }
   ],
   "source": [
    "corr= action[['read_comment','like','play','finish_playing','test_label','train_label']].corr()\n",
    "sns.heatmap(corr,annot = True,vmax = 1,square = True,cmap = \"Blues\")"
   ]
  },
  {
   "cell_type": "code",
   "execution_count": 70,
   "id": "2316e029",
   "metadata": {},
   "outputs": [
    {
     "data": {
      "text/plain": [
       "<matplotlib.axes._subplots.AxesSubplot at 0x7febca6dbbe0>"
      ]
     },
     "execution_count": 70,
     "metadata": {},
     "output_type": "execute_result"
    },
    {
     "data": {
      "image/png": "[encoded data removed]",
      "text/plain": [
       "<Figure size 432x288 with 1 Axes>"
      ]
     },
     "metadata": {},
     "output_type": "display_data"
    }
   ],
   "source": [
    "action['test_label'].value_counts().plot(\"pie\")"
   ]
  },
  {
   "cell_type": "code",
   "execution_count": 71,
   "id": "273a3674",
   "metadata": {},
   "outputs": [
    {
     "data": {
      "text/plain": [
       "<matplotlib.axes._subplots.AxesSubplot at 0x7febc9c423c8>"
      ]
     },
     "execution_count": 71,
     "metadata": {},
     "output_type": "execute_result"
    },
    {
     "data": {
      "image/png": "[encoded data removed]",
      "text/plain": [
       "<Figure size 432x288 with 1 Axes>"
      ]
     },
     "metadata": {},
     "output_type": "display_data"
    }
   ],
   "source": [
    "action['train_label'].value_counts().plot(\"pie\")"
   ]
  },
  {
   "cell_type": "code",
   "execution_count": 132,
   "id": "10dc0d3f",
   "metadata": {},
   "outputs": [],
   "source": [
    "feed = action.sort_values(by=['date_'])\n",
    "\n",
    "train= feed.groupby('userid').apply(lambda x: x[:int(len(x)*0.6)]).reset_index(drop=True)\n",
    "valid= feed.groupby('userid').apply(lambda x: x[int(len(x)*0.6):int(len(x)*0.8)]).reset_index(drop=True)\n",
    "test= feed.groupby('userid').apply(lambda x: x[int(len(x)*0.8):]).reset_index(drop=True)"
   ]
  },
  {
   "cell_type": "markdown",
   "id": "5ea29d04",
   "metadata": {},
   "source": [
    "# save"
   ]
  },
  {
   "cell_type": "code",
   "execution_count": 20,
   "id": "57214963",
   "metadata": {},
   "outputs": [],
   "source": [
    "from sklearn.preprocessing import OrdinalEncoder\n",
    "enc = OrdinalEncoder()\n",
    "action['userid'] = enc.fit_transform(action['userid'].to_numpy().reshape(-1,1)).astype(\"int32\")\n",
    "\n",
    "enc = OrdinalEncoder()\n",
    "action['feedid'] = enc.fit_transform(action['feedid'].to_numpy().reshape(-1,1)).astype(\"int32\")\n",
    "\n",
    "enc = OrdinalEncoder()\n",
    "action['authorid'] = enc.fit_transform(action['authorid'].to_numpy().reshape(-1,1)).astype(\"int32\")\n",
    "\n",
    "feed_emb = action[['feedid','feed_embedding']].drop_duplicates(['feedid']).sort_values(by=['feedid'])"
   ]
  },
  {
   "cell_type": "code",
   "execution_count": 21,
   "id": "fc029e29",
   "metadata": {},
   "outputs": [],
   "source": [
    "from sklearn.decomposition import PCA\n",
    "from sklearn.cluster import KMeans\n",
    "\n",
    "pca = PCA(n_components = 64) \n",
    "emb = np.array(feed_emb['feed_embedding'].apply(lambda x: [float(i) for i in x.split(' ')[:-1]]).tolist())\n",
    "res = pca.fit_transform(emb)\n",
    "emb = pd.DataFrame(res,columns = [i for i in range(64)])"
   ]
  },
  {
   "cell_type": "code",
   "execution_count": 22,
   "id": "0e8e7fa1",
   "metadata": {},
   "outputs": [],
   "source": [
    "np.save('./input/feedid_emb_64.npy',emb.to_numpy())"
   ]
  },
  {
   "cell_type": "code",
   "execution_count": 28,
   "id": "ee6d8416",
   "metadata": {},
   "outputs": [],
   "source": [
    "action.drop('feed_embedding',axis=1,inplace=True)"
   ]
  },
  {
   "cell_type": "code",
   "execution_count": 32,
   "id": "d77763a4",
   "metadata": {},
   "outputs": [],
   "source": [
    "action.to_csv(\"./input/action.csv\",index=False)"
   ]
  },
  {
   "cell_type": "code",
   "execution_count": null,
   "id": "c4449bbf",
   "metadata": {},
   "outputs": [],
   "source": []
  }
 ],
 "metadata": {
  "kernelspec": {
   "display_name": "Python 3",
   "language": "python",
   "name": "python3"
  },
  "language_info": {
   "codemirror_mode": {
    "name": "ipython",
    "version": 3
   },
   "file_extension": ".py",
   "mimetype": "text/x-python",
   "name": "python",
   "nbconvert_exporter": "python",
   "pygments_lexer": "ipython3",
   "version": "3.6.9"
  },
  "toc": {
   "base_numbering": 1,
   "nav_menu": {},
   "number_sections": true,
   "sideBar": true,
   "skip_h1_title": false,
   "title_cell": "Table of Contents",
   "title_sidebar": "Contents",
   "toc_cell": false,
   "toc_position": {},
   "toc_section_display": true,
   "toc_window_display": false
  }
 },
 "nbformat": 4,
 "nbformat_minor": 5
}
